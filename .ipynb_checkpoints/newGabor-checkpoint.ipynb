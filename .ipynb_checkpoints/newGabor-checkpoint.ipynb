{
 "cells": [
  {
   "cell_type": "code",
   "execution_count": 104,
   "metadata": {},
   "outputs": [],
   "source": [
    "#https://github.com/duycao2506/Gabor-Filter-Face-Extraction/blob/master/FaceRecognizer.py\n",
    "import cv2\n",
    "import numpy as np\n",
    "import matplotlib.pyplot as plt"
   ]
  },
  {
   "cell_type": "code",
   "execution_count": 105,
   "metadata": {},
   "outputs": [],
   "source": [
    "def get_gabor_kernel(w,h,sigma_x, sigma_y, theta, fi, psi):\n",
    "    \"getting gabor kernel with those values\"\n",
    "    # Bounding box\n",
    "    kernel_size_x = w\n",
    "    kernel_size_y = h\n",
    "    (y, x) = np.meshgrid(np.arange(0, kernel_size_y ), np.arange(0,kernel_size_x))\n",
    "    # Rotation \n",
    "    x_theta = x * np.cos(theta) + y * np.sin(theta)\n",
    "    y_theta = -x * np.sin(theta) + y * np.cos(theta)\n",
    "    #Calculate the gabor kernel according the formulae\n",
    "    gb = np.exp(-1.0*(x_theta ** 2.0 / sigma_x ** 2.0 + y_theta ** 2.0 / sigma_y ** 2.0)) * np.cos(2 * np.pi * fi * x_theta + psi)\n",
    "    return gb"
   ]
  },
  {
   "cell_type": "code",
   "execution_count": 106,
   "metadata": {},
   "outputs": [],
   "source": [
    "def build_filters(w, h,num_theta, fi, sigma_x, sigma_y, psi):\n",
    "    \"Get set of filters for GABOR\"\n",
    "    filters = []\n",
    "    for i in range(num_theta):\n",
    "        theta = ((i+1)*1.0 / num_theta) * np.pi\n",
    "        for f_var in fi:\n",
    "            kernel = get_gabor_kernel(w, h,sigma_x, sigma_y, theta, f_var, 0)\n",
    "            kernel = 2.0*kernel/kernel.sum()\n",
    "            # kernel = cv2.normalize(kernel, kernel, 1.0, 0, cv2.NORM_L2)\n",
    "            filters.append(kernel)\n",
    "    return filters"
   ]
  },
  {
   "cell_type": "code",
   "execution_count": 107,
   "metadata": {},
   "outputs": [],
   "source": [
    "def extractFeatures(img):\n",
    "    \"A vector of 2n elements where n is the number of theta angles\"\n",
    "    \"and 2 is the number of frequencies under consideration\"\n",
    "    filters =  build_filters(img.shape[0],img.shape[1],5,(0.75,1.5),2,1,np.pi/2.0)\n",
    "    fft_filters = [np.fft.fft2(i) for i in filters]\n",
    "    img_fft = np.fft.fft2(img)\n",
    "    print(len(fft_filters), len(fft_filters[0]))\n",
    "    a =  img_fft * fft_filters\n",
    "    print(a.shape)\n",
    "    s = [np.fft.ifft2(i) for i in a]\n",
    "    k = [p.real for p in s]\n",
    "    return k"
   ]
  },
  {
   "cell_type": "code",
   "execution_count": 108,
   "metadata": {},
   "outputs": [],
   "source": [
    "def process(img, filters):\n",
    "    accum = np.zeros_like(img)\n",
    "    for kern in filters:\n",
    "        fimg = cv2.filter2D(img, cv2.CV_8UC3, kern)\n",
    "        np.maximum(accum, fimg, accum)\n",
    "    return accum"
   ]
  },
  {
   "cell_type": "code",
   "execution_count": 109,
   "metadata": {},
   "outputs": [],
   "source": [
    "image = cv2.imread('img001-00437.png', 0)"
   ]
  },
  {
   "cell_type": "code",
   "execution_count": 112,
   "metadata": {},
   "outputs": [],
   "source": [
    "#feat = extractFeatures(image)"
   ]
  },
  {
   "cell_type": "code",
   "execution_count": 95,
   "metadata": {},
   "outputs": [],
   "source": [
    "def process(img, filters):\n",
    "    accum = np.zeros_like(img)\n",
    "    for kern in filters:\n",
    "        fimg = cv2.filter2D(img, cv2.CV_8UC3, kern)\n",
    "        np.maximum(accum, fimg, accum)\n",
    "    return accum"
   ]
  },
  {
   "cell_type": "code",
   "execution_count": 96,
   "metadata": {},
   "outputs": [],
   "source": [
    "filters =  build_filters(image.shape[0],image.shape[1],5,(0.75,1.5),2,1,np.pi/2.0)"
   ]
  },
  {
   "cell_type": "code",
   "execution_count": 97,
   "metadata": {},
   "outputs": [],
   "source": [
    "res1 = process(image, filters)"
   ]
  },
  {
   "cell_type": "code",
   "execution_count": 98,
   "metadata": {},
   "outputs": [
    {
     "data": {
      "text/plain": [
       "<matplotlib.image.AxesImage at 0x7effbcf2eb70>"
      ]
     },
     "execution_count": 98,
     "metadata": {},
     "output_type": "execute_result"
    },
    {
     "data": {
      "image/png": "[encoded data removed]",
      "text/plain": [
       "<Figure size 432x288 with 1 Axes>"
      ]
     },
     "metadata": {},
     "output_type": "display_data"
    }
   ],
   "source": [
    "plt.imshow(res1)"
   ]
  },
  {
   "cell_type": "code",
   "execution_count": null,
   "metadata": {},
   "outputs": [],
   "source": []
  }
 ],
 "metadata": {
  "kernelspec": {
   "display_name": "Python 3",
   "language": "python",
   "name": "python3"
  },
  "language_info": {
   "codemirror_mode": {
    "name": "ipython",
    "version": 3
   },
   "file_extension": ".py",
   "mimetype": "text/x-python",
   "name": "python",
   "nbconvert_exporter": "python",
   "pygments_lexer": "ipython3",
   "version": "3.6.6+"
  }
 },
 "nbformat": 4,
 "nbformat_minor": 2
}
